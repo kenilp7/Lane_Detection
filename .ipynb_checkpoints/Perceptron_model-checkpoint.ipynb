{
 "cells": [
  {
   "cell_type": "code",
   "execution_count": 73,
   "metadata": {},
   "outputs": [],
   "source": [
    "import numpy as np\n",
    "import matplotlib.pyplot as plt\n",
    "%matplotlib inline"
   ]
  },
  {
   "cell_type": "code",
   "execution_count": 108,
   "metadata": {},
   "outputs": [],
   "source": [
    "def draw(x,y): # for plotting the line\n",
    "    ln=plt.plot(x,y)\n",
    "\n",
    "def sigmoid(score): # find the probabilities using sigmoid function\n",
    "    return 1/(1+np.exp(-score))\n",
    "\n",
    "def calculate_error(line_para,points,y): # calculating the cross_entropy\n",
    "    n=points.shape[0]\n",
    "    p=sigmoid(points*line_para)\n",
    "    cross_entropy=-(1/n)*(np.log(p).T*y + np.log(1-p).T*(1-y))\n",
    "    return cross_entropy\n",
    "\n",
    "def gradient_descent(line_parameters,points,y,alpha):\n",
    "    n=points.shape[0]\n",
    "    for i in range(2000):\n",
    "        p=sigmoid(points*line_parameters)\n",
    "        gradient=points.T*(p-y)*(alpha/n)\n",
    "        line_parameters=line_parameters-gradient # line parameters are updated after every iteration\n",
    "        w1=line_parameters.item(0)\n",
    "        w2=line_parameters.item(1)\n",
    "        b=line_parameters.item(2)\n",
    "        x1=np.array([points[:,0].min(),points[:,0].max()])\n",
    "        x2=-b/w2 + (x1*(-w1/w2)) \n",
    "    draw(x1,x2)"
   ]
  },
  {
   "cell_type": "code",
   "execution_count": 99,
   "metadata": {},
   "outputs": [
    {
     "data": {
      "image/png": "[encoded data removed]",
      "text/plain": [
       "<Figure size 504x504 with 1 Axes>"
      ]
     },
     "metadata": {
      "needs_background": "light"
     },
     "output_type": "display_data"
    }
   ],
   "source": [
    "n_pts=10\n",
    "np.random.seed(0) # fix the random values\n",
    "\n",
    "x_top=np.random.normal(10,2,n_pts) # normal dist. (center_pt,std_dev,n_pts)\n",
    "y_top=np.random.normal(12,2,n_pts) # normal dist. (center_pt,std_dev,n_pts)\n",
    "\n",
    "top_region=np.array([x_top,y_top]).T # points in top region (x,y)\n",
    "\n",
    "x_btm=np.random.normal(5,2,n_pts) # normal dist. (center_pt,std_dev,n_pts)\n",
    "y_btm=np.random.normal(6,2,n_pts) # normal dist. (center_pt,std_dev,n_pts)\n",
    "\n",
    "btm_region=np.array([x_btm,y_btm]).T # points in bottom region (x,y)\n",
    "\n",
    "_,ax=plt.subplots(figsize=(7,7)) # subplots command gives tuple as an output so _,ax where _ is figure variable and ax variable in which it is stored\n",
    "ax.scatter(top_region[:,0],top_region[:,1],color='r') # (x,y,color) where x=all rows of 1st column (0) and y=all rows of 2nd coloumn (1)\n",
    "ax.scatter(btm_region[:,0],btm_region[:,1],color='b') # (x,y,color) where x=all rows of 1st column (0) and y=all rows of 2nd coloumn (1)\n",
    "plt.show()"
   ]
  },
  {
   "cell_type": "code",
   "execution_count": 100,
   "metadata": {},
   "outputs": [
    {
     "data": {
      "text/plain": [
       "array([1., 1., 1., 1., 1., 1., 1., 1., 1., 1., 1., 1., 1., 1., 1., 1., 1.,\n",
       "       1., 1., 1.])"
      ]
     },
     "execution_count": 100,
     "metadata": {},
     "output_type": "execute_result"
    }
   ],
   "source": [
    "bias=np.ones(2*n_pts) # ones array for multiplying it with bias value - 2* because of the vstacking in all_pts\n",
    "bias"
   ]
  },
  {
   "cell_type": "code",
   "execution_count": 101,
   "metadata": {},
   "outputs": [
    {
     "data": {
      "text/plain": [
       "array([[13.52810469, 12.28808714,  1.        ],\n",
       "       [10.80031442, 14.90854701,  1.        ],\n",
       "       [11.95747597, 13.52207545,  1.        ],\n",
       "       [14.4817864 , 12.24335003,  1.        ],\n",
       "       [13.73511598, 12.88772647,  1.        ],\n",
       "       [ 8.04544424, 12.66734865,  1.        ],\n",
       "       [11.90017684, 14.98815815,  1.        ],\n",
       "       [ 9.69728558, 11.58968347,  1.        ],\n",
       "       [ 9.7935623 , 12.6261354 ,  1.        ],\n",
       "       [10.821197  , 10.29180852,  1.        ],\n",
       "       [-0.10597963,  6.30989485,  1.        ],\n",
       "       [ 6.30723719,  6.75632504,  1.        ],\n",
       "       [ 6.7288724 ,  4.2244285 ,  1.        ],\n",
       "       [ 3.51566996,  2.03840706,  1.        ],\n",
       "       [ 9.53950925,  5.3041757 ,  1.        ],\n",
       "       [ 2.09126865,  6.31269794,  1.        ],\n",
       "       [ 5.09151703,  8.46058136,  1.        ],\n",
       "       [ 4.6256323 ,  8.4047597 ,  1.        ],\n",
       "       [ 8.06555843,  5.22534637,  1.        ],\n",
       "       [ 7.93871754,  5.3953945 ,  1.        ]])"
      ]
     },
     "execution_count": 101,
     "metadata": {},
     "output_type": "execute_result"
    }
   ],
   "source": [
    "all_pts=np.vstack((top_region,btm_region))\n",
    "all_pts=np.c_[all_pts,bias] # adding bias array of ones to all points for z=WX+b multiplication\n",
    "all_pts"
   ]
  },
  {
   "cell_type": "code",
   "execution_count": 102,
   "metadata": {},
   "outputs": [],
   "source": [
    "# weight parameters defined\n",
    "w1=-0.2\n",
    "w2=-0.35\n",
    "b=3.5\n",
    "\n",
    "line_parameters=np.matrix([w1,w2,b]).T"
   ]
  },
  {
   "cell_type": "code",
   "execution_count": 103,
   "metadata": {},
   "outputs": [
    {
     "name": "stdout",
     "output_type": "stream",
     "text": [
      "Z values:  [[-3.50645144]\n",
      " [-3.87805434]\n",
      " [-3.6242216 ]\n",
      " [-3.68152979]\n",
      " [-3.75772746]\n",
      " [-2.54266088]\n",
      " [-4.12589072]\n",
      " [-2.49584633]\n",
      " [-2.87785985]\n",
      " [-2.26637238]\n",
      " [ 1.31273273]\n",
      " [-0.1261612 ]\n",
      " [ 0.67567554]\n",
      " [ 2.08342354]\n",
      " [-0.26436335]\n",
      " [ 0.87230199]\n",
      " [-0.47950688]\n",
      " [-0.36679235]\n",
      " [ 0.05801709]\n",
      " [ 0.02386842]]\n",
      " \n",
      "Sigmoid activation values:  [[0.02912922]\n",
      " [0.0202716 ]\n",
      " [0.02597705]\n",
      " [0.02456574]\n",
      " [0.02280453]\n",
      " [0.07292108]\n",
      " [0.01589245]\n",
      " [0.07614988]\n",
      " [0.05325894]\n",
      " [0.09394654]\n",
      " [0.78797008]\n",
      " [0.46850147]\n",
      " [0.66277284]\n",
      " [0.88928156]\n",
      " [0.43429141]\n",
      " [0.70522447]\n",
      " [0.38236857]\n",
      " [0.40931633]\n",
      " [0.5145002 ]\n",
      " [0.50596682]]\n"
     ]
    }
   ],
   "source": [
    "linear_combination=all_pts*line_parameters # operation of z = WX + b for each point\n",
    "print('Z values: ',linear_combination)\n",
    "\n",
    "print(' ')\n",
    "\n",
    "probabilities=sigmoid(linear_combination)\n",
    "print('Sigmoid activation values: ',probabilities)"
   ]
  },
  {
   "cell_type": "code",
   "execution_count": 105,
   "metadata": {},
   "outputs": [
    {
     "name": "stdout",
     "output_type": "stream",
     "text": [
      "x1 : [-0.10597963 14.4817864 ]\n",
      "x2 : [10.06055979  1.72469349]\n"
     ]
    },
    {
     "data": {
      "image/png": "[encoded data removed]",
      "text/plain": [
       "<Figure size 504x504 with 1 Axes>"
      ]
     },
     "metadata": {
      "needs_background": "light"
     },
     "output_type": "display_data"
    }
   ],
   "source": [
    "# drawing a line to seperate the classes \n",
    "x1=np.array([btm_region[:,0].min(),top_region[:,0].max()]) # taking the upper right point as x1\n",
    "x2=-b/w2 + (x1*(-w1/w2)) # using equation y=mx+c to get bottom right point as x2\n",
    "print('x1 :',x1)\n",
    "print('x2 :',x2)\n",
    "\n",
    "_,ax=plt.subplots(figsize=(7,7)) \n",
    "ax.scatter(top_region[:,0],top_region[:,1],color='r') \n",
    "ax.scatter(btm_region[:,0],btm_region[:,1],color='b') \n",
    "draw(x1,x2)\n",
    "plt.show()"
   ]
  },
  {
   "cell_type": "code",
   "execution_count": 110,
   "metadata": {},
   "outputs": [
    {
     "name": "stdout",
     "output_type": "stream",
     "text": [
      "error : [[0.31787835]]\n"
     ]
    }
   ],
   "source": [
    "y=np.array([np.zeros(n_pts),np.ones(n_pts)]).reshape(n_pts*2,1) # the ground truth values (or labels) 0 or 1 in this case\n",
    "\n",
    "error = calculate_error(line_parameters,all_pts,y)\n",
    "print('error :',error)"
   ]
  },
  {
   "cell_type": "code",
   "execution_count": 113,
   "metadata": {},
   "outputs": [
    {
     "data": {
      "image/png": "[encoded data removed]",
      "text/plain": [
       "<Figure size 504x504 with 1 Axes>"
      ]
     },
     "metadata": {
      "needs_background": "light"
     },
     "output_type": "display_data"
    }
   ],
   "source": [
    "# applying gradient descent to update the parameters\n",
    "\n",
    "line_para=np.matrix([np.zeros(3)]).T\n",
    "_,ax=plt.subplots(figsize=(7,7)) \n",
    "ax.scatter(top_region[:,0],top_region[:,1],color='r') \n",
    "ax.scatter(btm_region[:,0],btm_region[:,1],color='b') \n",
    "gradient_descent(line_para,all_pts,y,0.06)\n",
    "plt.show()"
   ]
  },
  {
   "cell_type": "code",
   "execution_count": null,
   "metadata": {},
   "outputs": [],
   "source": []
  }
 ],
 "metadata": {
  "kernelspec": {
   "display_name": "Python 3 (ipykernel)",
   "language": "python",
   "name": "python3"
  },
  "language_info": {
   "codemirror_mode": {
    "name": "ipython",
    "version": 3
   },
   "file_extension": ".py",
   "mimetype": "text/x-python",
   "name": "python",
   "nbconvert_exporter": "python",
   "pygments_lexer": "ipython3",
   "version": "3.9.12"
  }
 },
 "nbformat": 4,
 "nbformat_minor": 4
}
